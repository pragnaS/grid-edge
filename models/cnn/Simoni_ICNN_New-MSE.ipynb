{
 "cells": [
  {
   "cell_type": "code",
   "execution_count": 3,
   "metadata": {},
   "outputs": [],
   "source": [
    "from numpy import mean\n",
    "from numpy import std\n",
    "from sklearn.datasets import make_regression\n",
    "from sklearn.model_selection import RepeatedKFold\n",
    "from tensorflow import keras\n",
    "from tensorflow.keras.models import Sequential\n",
    "from tensorflow.keras.layers import Dense\n",
    "\n",
    "from sklearn.model_selection import GridSearchCV\n",
    "from sklearn.model_selection import RepeatedKFold\n",
    "from sklearn.linear_model import LinearRegression, Ridge, Lasso, LogisticRegression, SGDRegressor, ElasticNet, RidgeCV\n",
    "from sklearn.neighbors import KNeighborsRegressor\n",
    "from sklearn.tree import DecisionTreeRegressor\n",
    "from sklearn.ensemble import RandomForestClassifier\n",
    "from sklearn.model_selection import train_test_split\n",
    "from sklearn.metrics import mean_squared_error\n",
    "from sklearn.preprocessing import MinMaxScaler, StandardScaler\n",
    "#import xgboost as xgb\n",
    "from pylab import *\n",
    "\n",
    "import numpy as np\n",
    "from numpy import linalg as LA\n",
    "import pandas as pd\n",
    "import os\n",
    "\n",
    "\n",
    "#from tensorflow.keras.models import Sequential\n",
    "from tensorflow.keras import layers\n",
    "from keras.models import Model\n",
    "from tensorflow.keras.constraints import non_neg"
   ]
  },
  {
   "cell_type": "markdown",
   "metadata": {},
   "source": [
    "# Data"
   ]
  },
  {
   "cell_type": "code",
   "execution_count": 4,
   "metadata": {},
   "outputs": [],
   "source": [
    "def DPMU(phase,dpmu_data,phase_letter,letter):\n",
    "    for (columnName, columnData) in phase.iteritems():\n",
    "        i=0\n",
    "        if 'Meter' in columnName:\n",
    "            split = columnName.split('Meter')\n",
    "            house_name = f'Meter{letter}_'+ split[1]\n",
    "            i+=1\n",
    "            dpmu_values = pd.Series(columnData.values).str.replace(\"i\", \"j\").apply(lambda x: abs(complex(x)))\n",
    "            dpmu_data[house_name] = dpmu_values\n",
    "        else:\n",
    "            split_column_names = columnName.split('_')\n",
    "            house_name = 'house'+str(split_column_names[phase_letter])\n",
    "            dpmu_values = pd.Series(columnData.values).str.replace(\"i\", \"j\").apply(lambda x: abs(complex(x)))\n",
    "            dpmu_data[house_name] = dpmu_values\n",
    "    return dpmu_data"
   ]
  },
  {
   "cell_type": "code",
   "execution_count": 5,
   "metadata": {},
   "outputs": [],
   "source": [
    "def Input(month,input_player_df):\n",
    "    directory = fr'C:\\Users\\simoni\\OneDrive\\Documents\\grid-edge\\data\\summer\\input_csv\\{month}'\n",
    "    #directory = os.getcwd()\n",
    "    #directory = directory.replace('models\\cnn', 'data\\summer\\input_csv')\n",
    "    #directory = directory + '\\\\' + month;\n",
    "    print(directory)\n",
    "\n",
    "    for filename in os.listdir(directory):\n",
    "        if str(filename).startswith('25.csv'):\n",
    "            continue\n",
    "        player = pd.read_csv(os.path.join(directory, filename))\n",
    "        #print(filename)\n",
    "        #print(player)\n",
    "        player['grid'] = player['grid'].str.replace(\"i\", \"j\").apply(lambda x: complex(x))\n",
    "        node_id = player['id'].loc[0]\n",
    "        column_name_p = 'p_'+str(node_id)\n",
    "        column_name_q = 'q_'+str(node_id)\n",
    "    #change .head() value to target dataframe row number\n",
    "        input_player_df[column_name_p] = player['grid'].apply(lambda x: x.real).head(44640)\n",
    "        input_player_df[column_name_q] = player['grid'].apply(lambda x: x.imag).head(44640)\n",
    "    return input_player_df"
   ]
  },
  {
   "cell_type": "code",
   "execution_count": 6,
   "metadata": {},
   "outputs": [],
   "source": [
    "dpmu_phaseA_aug = pd.read_csv('..\\\\..\\\\data\\\\summer\\\\targets\\\\trimmed_targets\\\\aug\\\\multi_voltageA.csv')\n",
    "dpmu_phaseB_aug = pd.read_csv('..\\\\..\\\\data\\\\summer\\\\targets\\\\trimmed_targets\\\\aug\\\\multi_voltageB.csv')\n",
    "dpmu_phaseC_aug = pd.read_csv('..\\\\..\\\\data\\\\summer\\\\targets\\\\trimmed_targets\\\\aug\\\\multi_voltageC.csv')\n",
    "\n",
    "dpmu_phaseA_july = pd.read_csv('..\\\\..\\\\data\\\\summer\\\\targets\\\\trimmed_targets\\\\july\\\\multi_voltageA.csv')\n",
    "dpmu_phaseB_july = pd.read_csv('..\\\\..\\\\data\\\\summer\\\\targets\\\\trimmed_targets\\\\july\\\\multi_voltageB.csv')\n",
    "dpmu_phaseC_july = pd.read_csv('..\\\\..\\\\data\\\\summer\\\\targets\\\\trimmed_targets\\\\july\\\\multi_voltageC.csv')\n",
    "\n",
    "dpmu_phaseA_june = pd.read_csv('..\\\\..\\\\data\\\\summer\\\\targets\\\\trimmed_targets\\\\june\\\\multi_voltageA.csv')\n",
    "dpmu_phaseB_june = pd.read_csv('..\\\\..\\\\data\\\\summer\\\\targets\\\\trimmed_targets\\\\june\\\\multi_voltageB.csv')\n",
    "dpmu_phaseC_june = pd.read_csv('..\\\\..\\\\data\\\\summer\\\\targets\\\\trimmed_targets\\\\june\\\\multi_voltageC.csv')\n",
    "\n",
    "dpmu_phaseA_sept = pd.read_csv('..\\\\..\\\\data\\\\summer\\\\targets\\\\trimmed_targets\\\\sept\\\\multi_voltageA.csv')\n",
    "dpmu_phaseB_sept = pd.read_csv('..\\\\..\\\\data\\\\summer\\\\targets\\\\trimmed_targets\\\\sept\\\\multi_voltageB.csv')\n",
    "dpmu_phaseC_sept = pd.read_csv('..\\\\..\\\\data\\\\summer\\\\targets\\\\trimmed_targets\\\\sept\\\\multi_voltageC.csv')\n",
    "\n",
    "#dpmu_phaseA_aug = pd.read_csv(r'C:\\Users\\aniss\\grid-edge\\data\\summer\\targets\\trimmed_targets\\aug\\multi_voltageA.csv')\n",
    "#dpmu_phaseB_aug = pd.read_csv(r'C:\\Users\\aniss\\grid-edge\\data\\summer\\targets\\trimmed_targets\\aug\\multi_voltageB.csv')\n",
    "#dpmu_phaseC_aug = pd.read_csv(r'C:\\Users\\aniss\\grid-edge\\data\\summer\\targets\\trimmed_targets\\aug\\multi_voltageC.csv')\n",
    "\n",
    "#dpmu_phaseA_july = pd.read_csv(r'C:\\Users\\aniss\\grid-edge\\data\\summer\\targets\\trimmed_targets\\july\\multi_voltageA.csv')\n",
    "#dpmu_phaseB_july = pd.read_csv(r'C:\\Users\\aniss\\grid-edge\\data\\summer\\targets\\trimmed_targets\\july\\multi_voltageB.csv')\n",
    "#dpmu_phaseC_july = pd.read_csv(r'C:\\Users\\aniss\\grid-edge\\data\\summer\\targets\\trimmed_targets\\july\\multi_voltageC.csv')\n",
    "\n",
    "#dpmu_phaseA_june = pd.read_csv(r'C:\\Users\\aniss\\grid-edge\\data\\summer\\targets\\trimmed_targets\\june\\multi_voltageA.csv')\n",
    "#dpmu_phaseB_june = pd.read_csv(r'C:\\Users\\aniss\\grid-edge\\data\\summer\\targets\\trimmed_targets\\june\\multi_voltageB.csv')\n",
    "#dpmu_phaseC_june = pd.read_csv(r'C:\\Users\\aniss\\grid-edge\\data\\summer\\targets\\trimmed_targets\\june\\multi_voltageC.csv')\n",
    "\n",
    "#dpmu_phaseA_sept = pd.read_csv(r'C:\\Users\\aniss\\grid-edge\\data\\summer\\targets\\trimmed_targets\\sept\\multi_voltageA.csv')\n",
    "#dpmu_phaseB_sept = pd.read_csv(r'C:\\Users\\aniss\\grid-edge\\data\\summer\\targets\\trimmed_targets\\sept\\multi_voltageB.csv')\n",
    "#dpmu_phaseC_sept = pd.read_csv(r'C:\\Users\\aniss\\grid-edge\\data\\summer\\targets\\trimmed_targets\\sept\\multi_voltageC.csv')"
   ]
  },
  {
   "cell_type": "code",
   "execution_count": 7,
   "metadata": {},
   "outputs": [],
   "source": [
    "dpmu_phaseA_aug = dpmu_phaseA_aug.drop(['Meter5', '# timestamp'], axis=1)\n",
    "dpmu_phaseB_aug = dpmu_phaseB_aug.drop(['Meter5', '# timestamp'], axis=1)\n",
    "dpmu_phaseC_aug = dpmu_phaseC_aug.drop(['Meter5', '# timestamp'], axis=1)\n",
    "\n",
    "dpmu_phaseA_july = dpmu_phaseA_july.drop(['Meter5', '# timestamp'], axis=1)\n",
    "dpmu_phaseB_july = dpmu_phaseB_july.drop(['Meter5', '# timestamp'], axis=1)\n",
    "dpmu_phaseC_july = dpmu_phaseC_july.drop(['Meter5', '# timestamp'], axis=1)\n",
    "\n",
    "dpmu_phaseA_june = dpmu_phaseA_june.drop(['Meter5', '# timestamp'], axis=1)\n",
    "dpmu_phaseB_june = dpmu_phaseB_june.drop(['Meter5', '# timestamp'], axis=1)\n",
    "dpmu_phaseC_june = dpmu_phaseC_june.drop(['Meter5', '# timestamp'], axis=1)\n",
    "\n",
    "dpmu_phaseA_sept = dpmu_phaseA_sept.drop(['Meter5', '# timestamp'], axis=1)\n",
    "dpmu_phaseB_sept = dpmu_phaseB_sept.drop(['Meter5', '# timestamp'], axis=1)\n",
    "dpmu_phaseC_sept = dpmu_phaseC_sept.drop(['Meter5', '# timestamp'], axis=1)"
   ]
  },
  {
   "cell_type": "code",
   "execution_count": 8,
   "metadata": {},
   "outputs": [],
   "source": [
    "phaseA = 0\n",
    "phaseB = 1\n",
    "phaseC = 2\n",
    "A = \"A\"\n",
    "B = \"B\"\n",
    "C = \"C\""
   ]
  },
  {
   "cell_type": "code",
   "execution_count": 9,
   "metadata": {},
   "outputs": [],
   "source": [
    "dpmu_data_aug = pd.DataFrame()\n",
    "dpmu_data_july = pd.DataFrame()\n",
    "dpmu_data_june = pd.DataFrame()\n",
    "dpmu_data_sept = pd.DataFrame()"
   ]
  },
  {
   "cell_type": "code",
   "execution_count": 10,
   "metadata": {},
   "outputs": [],
   "source": [
    "dpmu_data_aug = DPMU(dpmu_phaseA_aug,dpmu_data_aug,phaseA, A)\n",
    "dpmu_data_aug = DPMU(dpmu_phaseB_aug,dpmu_data_aug, phaseB, B)\n",
    "dpmu_data_aug = DPMU(dpmu_phaseC_aug,dpmu_data_aug, phaseC, C)\n",
    "\n",
    "dpmu_data_july = DPMU(dpmu_phaseA_aug,dpmu_data_july,phaseA, A)\n",
    "dpmu_data_july = DPMU(dpmu_phaseB_aug,dpmu_data_july, phaseB, B)\n",
    "dpmu_data_july = DPMU(dpmu_phaseC_aug,dpmu_data_july, phaseC, C)\n",
    "\n",
    "dpmu_data_june = DPMU(dpmu_phaseA_aug,dpmu_data_june,phaseA, A)\n",
    "dpmu_data_june = DPMU(dpmu_phaseB_aug,dpmu_data_june, phaseB, B)\n",
    "dpmu_data_june = DPMU(dpmu_phaseC_aug,dpmu_data_june, phaseC, C)\n",
    "\n",
    "dpmu_data_sept = DPMU(dpmu_phaseA_aug,dpmu_data_sept,phaseA, A)\n",
    "dpmu_data_sept = DPMU(dpmu_phaseB_aug,dpmu_data_sept, phaseB, B)\n",
    "dpmu_data_sept = DPMU(dpmu_phaseC_aug,dpmu_data_sept, phaseC, C)"
   ]
  },
  {
   "cell_type": "code",
   "execution_count": 11,
   "metadata": {},
   "outputs": [],
   "source": [
    "dpmu_data = pd.DataFrame()\n",
    "dpmu_data = pd.concat([dpmu_data_june, dpmu_data_july,dpmu_data_aug,dpmu_data_sept], ignore_index = True)"
   ]
  },
  {
   "cell_type": "code",
   "execution_count": 12,
   "metadata": {},
   "outputs": [],
   "source": [
    "dpmu_data_2 = dpmu_data[0:175680]"
   ]
  },
  {
   "cell_type": "code",
   "execution_count": 13,
   "metadata": {},
   "outputs": [],
   "source": [
    "aug = \"aug\"\n",
    "july = \"july\"\n",
    "june = \"june\"\n",
    "sept = \"sept\""
   ]
  },
  {
   "cell_type": "code",
   "execution_count": 14,
   "metadata": {},
   "outputs": [],
   "source": [
    "input_player_df_aug = pd.DataFrame()\n",
    "input_player_df_july = pd.DataFrame()\n",
    "input_player_df_june = pd.DataFrame()\n",
    "input_player_df_sept = pd.DataFrame()"
   ]
  },
  {
   "cell_type": "code",
   "execution_count": 15,
   "metadata": {},
   "outputs": [
    {
     "name": "stdout",
     "output_type": "stream",
     "text": [
      "C:\\Users\\simoni\\OneDrive\\Documents\\grid-edge\\data\\summer\\input_csv\\aug\n",
      "C:\\Users\\simoni\\OneDrive\\Documents\\grid-edge\\data\\summer\\input_csv\\july\n",
      "C:\\Users\\simoni\\OneDrive\\Documents\\grid-edge\\data\\summer\\input_csv\\june\n",
      "C:\\Users\\simoni\\OneDrive\\Documents\\grid-edge\\data\\summer\\input_csv\\sept\n"
     ]
    }
   ],
   "source": [
    "input_player_df_aug = Input(aug,input_player_df_aug)\n",
    "input_player_df_july = Input(july,input_player_df_july)\n",
    "input_player_df_june = Input(june,input_player_df_june)\n",
    "input_player_df_sept = Input(sept,input_player_df_sept)"
   ]
  },
  {
   "cell_type": "code",
   "execution_count": 16,
   "metadata": {},
   "outputs": [],
   "source": [
    "input_player_df = pd.DataFrame()\n",
    "input_player_df = pd.concat([input_player_df_june,input_player_df_july,input_player_df_aug,input_player_df_sept], ignore_index=True)"
   ]
  },
  {
   "cell_type": "markdown",
   "metadata": {},
   "source": [
    "# Model"
   ]
  },
  {
   "cell_type": "code",
   "execution_count": 17,
   "metadata": {},
   "outputs": [],
   "source": [
    "# get the dataset\n",
    "def get_dataset():\n",
    "    x, y = input_player_df.copy().to_numpy(), dpmu_data_2.copy().to_numpy()\n",
    "    x_train_split, x_test_split, y_train_split, y_test_split = train_test_split(x, y, test_size=0.33, shuffle=False) \n",
    "    return x_train_split, x_test_split, y_train_split, y_test_split, x, y"
   ]
  },
  {
   "cell_type": "code",
   "execution_count": 45,
   "metadata": {},
   "outputs": [],
   "source": [
    "# get the model\n",
    "def get_model(n_inputs, n_outputs):\n",
    "    main_input = Input(shape=n_inputs, name='main_input')\n",
    "    x = Dense(1440, input_dim=n_inputs, activation='relu')(main_input)\n",
    "    # supposed to be y = x*(weights) + main_input*(weights)+ b .. for each layer\n",
    "    x = Dense(720, input_dim=n_inputs, activation='relu', kernel_constraint=non_neg())(x)\n",
    "    d = Dense(720, input_dim=n_inputs, activation='relu')(main_input)\n",
    "    y = keras.layers.Add()([x, d])\n",
    "    \n",
    "    x = Dense(360, input_dim=n_inputs, activation='relu', kernel_constraint=non_neg())(y)\n",
    "    d = Dense(360, input_dim=n_inputs, activation='relu')(main_input)\n",
    "    y = keras.layers.Add()([x, d])\n",
    "    \n",
    "    x = Dense(180, input_dim=n_inputs, activation='relu', kernel_constraint=non_neg())(y)\n",
    "    d = Dense(180, input_dim=n_inputs, activation='relu')(main_input)\n",
    "    y = keras.layers.Add()([x, d])\n",
    "    \n",
    "    x = Dense(90, input_dim=n_inputs, activation='relu', kernel_constraint=non_neg())(y)\n",
    "    d = Dense(90, input_dim=n_inputs, activation='relu')(main_input)\n",
    "    y = keras.layers.Add()([x, d])\n",
    "    \n",
    "    # result gives you V-V0 for DPMU..... can we update y_test to reflect this...\n",
    "    main_output = Dense(n_outputs, activation='relu', name='main_output')(y)\n",
    "    model = Model(inputs=[main_input], outputs=[main_output])\n",
    "    model.compile(loss='mse', optimizer='adam', metrics=[keras.metrics.MeanSquaredError()])\n",
    "    return model"
   ]
  },
  {
   "cell_type": "code",
   "execution_count": 40,
   "metadata": {},
   "outputs": [],
   "source": [
    "# evaluate a model using repeated k-fold cross-validation\n",
    "def evaluate_model(x, y):\n",
    "    results = list()\n",
    "    n_inputs, n_outputs = x.shape[1], y.shape[1]\n",
    "    # define evaluation procedure\n",
    "    cv = RepeatedKFold(n_splits=10, n_repeats=3, random_state=1)\n",
    "    # enumerate folds\n",
    "    for train_ix, test_ix in cv.split(x):\n",
    "        # prepare data\n",
    "        x_train, x_test = x[train_ix], x[test_ix]\n",
    "        y_train, y_test = y_new[train_ix], y_new[test_ix]\n",
    "        # define model\n",
    "        model = get_model(n_inputs, n_outputs)\n",
    "        # fit model\n",
    "        model.fit(x_train, y_train, verbose=1, epochs=100)\n",
    "        # evaluate model on test set\n",
    "        #mse = model.evaluate(x_test, y_test, verbose=0)\n",
    "        \n",
    "        y_pred = model.predict(x_test)\n",
    "        names = y_test.columns\n",
    "        df_y_pred = pd.DataFrame(y_pred,columns = names)\n",
    "        scaling_all = pd.concat([y_test,df_y_pred], keys=['y_test','y_pred'])\n",
    "        \n",
    "        scaler = StandardScaler()\n",
    "        scaler.fit(scaling_all)\n",
    "        scaledDF = pd.DataFrame(scaler.transform(scaling_all),columns = names)\n",
    "        \n",
    "        scaled_y_pred = scaledDF[:57975]\n",
    "        scaled_y_test = scaledDF[57975:]\n",
    "        \n",
    "        L2_ratios = []\n",
    "        for index, row in scaled_y_test.iterrows():\n",
    "            L2_ratios.append(LA.norm(row))\n",
    "        \n",
    "        #dividing all y_pred by the L2 ratios:\n",
    "        ratio_index = 0\n",
    "        scaled_ratio_y_pred = []\n",
    "        for index, row in scaled_y_pred.iterrows():\n",
    "            scaled_ratio_y_pred.append(row/L2_ratios[ratio_index])\n",
    "            ratio_index += 1\n",
    "        \n",
    "        # store result\n",
    "        print(mse)\n",
    "        results.append(mse)\n",
    "    return scaled_ratio_y_pred"
   ]
  },
  {
   "cell_type": "code",
   "execution_count": 20,
   "metadata": {},
   "outputs": [],
   "source": [
    "# train a model using repeated k-fold cross-validation\n",
    "def train_model(x_train_split, y_train_split):\n",
    "    results = list()\n",
    "    n_inputs, n_outputs = x_train_split.shape[1], y_train_split.shape[1]\n",
    "    # define evaluation procedure\n",
    "    cv = RepeatedKFold(n_splits=10, n_repeats=3, random_state=1)\n",
    "    # enumerate folds\n",
    "    for train_ix, test_ix in cv.split(x_train_split):\n",
    "        # prepare data\n",
    "        x_train, x_test = x[train_ix], x[test_ix]\n",
    "        y_train, y_test = y_new[train_ix], y_new[test_ix]\n",
    "        # define model\n",
    "        model = get_model(n_inputs, n_outputs)\n",
    "        # fit model\n",
    "        model.fit(x_train, y_train, verbose=1, epochs=10)\n",
    "        return model\n",
    "\n",
    "def evaluation_model(model, x_test_split, y_test_split):\n",
    "    y_pred = model.predict(x_test_split)\n",
    "    names = y_test_split.columns\n",
    "    df_y_pred = pd.DataFrame(y_pred,columns = names)\n",
    "    scaling_all = pd.concat([y_test_split,df_y_pred], keys=['y_test','y_pred'])\n",
    "\n",
    "    scaler = StandardScaler()\n",
    "    scaler.fit(scaling_all)\n",
    "    scaledDF = pd.DataFrame(scaler.transform(scaling_all),columns = names)\n",
    "\n",
    "    scaled_y_pred = scaledDF[:57975]\n",
    "    scaled_y_test = scaledDF[57975:]\n",
    "\n",
    "    L2_ratios = []\n",
    "    for index, row in scaled_y_test.iterrows():\n",
    "        L2_ratios.append(LA.norm(row))\n",
    "\n",
    "    #dividing all y_pred by the L2 ratios:\n",
    "    ratio_index = 0\n",
    "    scaled_ratio_y_pred = []\n",
    "    for index, row in scaled_y_pred.iterrows():\n",
    "        scaled_ratio_y_pred.append(row/L2_ratios[ratio_index])\n",
    "        ratio_index += 1\n",
    "\n",
    "    # store result\n",
    "    print(mse)\n",
    "    results.append(mse)\n",
    "    return scaled_ratio_y_pred, scaled_y_test\n"
   ]
  },
  {
   "cell_type": "code",
   "execution_count": 46,
   "metadata": {},
   "outputs": [
    {
     "name": "stdout",
     "output_type": "stream",
     "text": [
      "Epoch 1/10\n",
      "3311/3311 [==============================] - 68s 20ms/step - loss: 897657339904.0000 - mean_squared_error: 897657339904.0000\n",
      "Epoch 2/10\n",
      "3311/3311 [==============================] - 78s 23ms/step - loss: 117.3227 - mean_squared_error: 117.3227\n",
      "Epoch 3/10\n",
      "3311/3311 [==============================] - 81s 24ms/step - loss: 117.3227 - mean_squared_error: 117.32270s - loss: 117.2 - ETA: 0s - loss: 117.3227 - mean_squared_error: 117.32\n",
      "Epoch 4/10\n",
      "3311/3311 [==============================] - 77s 23ms/step - loss: 117.3229 - mean_squared_error: 117.3229\n",
      "Epoch 5/10\n",
      "3311/3311 [==============================] - 76s 23ms/step - loss: 117.3229 - mean_squared_error: 117.3229\n",
      "Epoch 6/10\n",
      "3311/3311 [==============================] - 109s 33ms/step - loss: 117.3228 - mean_squared_error: 117.3228s - loss: 117.3270 - mean_squared_error: 117.\n",
      "Epoch 7/10\n",
      "3311/3311 [==============================] - 139s 42ms/step - loss: 117.3228 - mean_squared_error: 117.3228\n",
      "Epoch 8/10\n",
      "3311/3311 [==============================] - 122s 37ms/step - loss: 117.3226 - mean_squared_error: 117.3226\n",
      "Epoch 9/10\n",
      "3311/3311 [==============================] - 130s 39ms/step - loss: 117.3228 - mean_squared_error: 117.3228\n",
      "Epoch 10/10\n",
      "3311/3311 [==============================] - 126s 38ms/step - loss: 117.3229 - mean_squared_error: 117.3229s - loss: 117.3263 - mean_squared_error\n"
     ]
    },
    {
     "ename": "AttributeError",
     "evalue": "'numpy.ndarray' object has no attribute 'columns'",
     "output_type": "error",
     "traceback": [
      "\u001b[1;31m---------------------------------------------------------------------------\u001b[0m",
      "\u001b[1;31mAttributeError\u001b[0m                            Traceback (most recent call last)",
      "\u001b[1;32m<ipython-input-46-28b7e97e8757>\u001b[0m in \u001b[0;36m<module>\u001b[1;34m\u001b[0m\n\u001b[0;32m      7\u001b[0m \u001b[1;31m# evaluate model\u001b[0m\u001b[1;33m\u001b[0m\u001b[1;33m\u001b[0m\u001b[1;33m\u001b[0m\u001b[0m\n\u001b[0;32m      8\u001b[0m \u001b[0mmodel_trained\u001b[0m \u001b[1;33m=\u001b[0m \u001b[0mtrain_model\u001b[0m\u001b[1;33m(\u001b[0m\u001b[0mx_train_split\u001b[0m\u001b[1;33m,\u001b[0m \u001b[0my_train_split_new\u001b[0m\u001b[1;33m)\u001b[0m\u001b[1;33m\u001b[0m\u001b[1;33m\u001b[0m\u001b[0m\n\u001b[1;32m----> 9\u001b[1;33m \u001b[0mscaled_ratio_y_pred\u001b[0m\u001b[1;33m,\u001b[0m \u001b[0mscaled_y_test\u001b[0m \u001b[1;33m=\u001b[0m \u001b[0mevaluation_model\u001b[0m\u001b[1;33m(\u001b[0m\u001b[0mmodel_trained\u001b[0m\u001b[1;33m,\u001b[0m \u001b[0mx_test_split\u001b[0m\u001b[1;33m,\u001b[0m \u001b[0my_test_split_new\u001b[0m\u001b[1;33m)\u001b[0m\u001b[1;33m\u001b[0m\u001b[1;33m\u001b[0m\u001b[0m\n\u001b[0m\u001b[0;32m     10\u001b[0m \u001b[1;31m# summarize performance\u001b[0m\u001b[1;33m\u001b[0m\u001b[1;33m\u001b[0m\u001b[1;33m\u001b[0m\u001b[0m\n\u001b[0;32m     11\u001b[0m \u001b[1;31m#print('MSE: %.3f (%.3f)' % (mean(results), std(results)))\u001b[0m\u001b[1;33m\u001b[0m\u001b[1;33m\u001b[0m\u001b[1;33m\u001b[0m\u001b[0m\n",
      "\u001b[1;32m<ipython-input-20-561d9116d9cb>\u001b[0m in \u001b[0;36mevaluation_model\u001b[1;34m(model, x_test_split, y_test_split)\u001b[0m\n\u001b[0;32m     18\u001b[0m \u001b[1;32mdef\u001b[0m \u001b[0mevaluation_model\u001b[0m\u001b[1;33m(\u001b[0m\u001b[0mmodel\u001b[0m\u001b[1;33m,\u001b[0m \u001b[0mx_test_split\u001b[0m\u001b[1;33m,\u001b[0m \u001b[0my_test_split\u001b[0m\u001b[1;33m)\u001b[0m\u001b[1;33m:\u001b[0m\u001b[1;33m\u001b[0m\u001b[1;33m\u001b[0m\u001b[0m\n\u001b[0;32m     19\u001b[0m     \u001b[0my_pred\u001b[0m \u001b[1;33m=\u001b[0m \u001b[0mmodel\u001b[0m\u001b[1;33m.\u001b[0m\u001b[0mpredict\u001b[0m\u001b[1;33m(\u001b[0m\u001b[0mx_test_split\u001b[0m\u001b[1;33m)\u001b[0m\u001b[1;33m\u001b[0m\u001b[1;33m\u001b[0m\u001b[0m\n\u001b[1;32m---> 20\u001b[1;33m     \u001b[0mnames\u001b[0m \u001b[1;33m=\u001b[0m \u001b[0my_test_split\u001b[0m\u001b[1;33m.\u001b[0m\u001b[0mcolumns\u001b[0m\u001b[1;33m\u001b[0m\u001b[1;33m\u001b[0m\u001b[0m\n\u001b[0m\u001b[0;32m     21\u001b[0m     \u001b[0mdf_y_pred\u001b[0m \u001b[1;33m=\u001b[0m \u001b[0mpd\u001b[0m\u001b[1;33m.\u001b[0m\u001b[0mDataFrame\u001b[0m\u001b[1;33m(\u001b[0m\u001b[0my_pred\u001b[0m\u001b[1;33m,\u001b[0m\u001b[0mcolumns\u001b[0m \u001b[1;33m=\u001b[0m \u001b[0mnames\u001b[0m\u001b[1;33m)\u001b[0m\u001b[1;33m\u001b[0m\u001b[1;33m\u001b[0m\u001b[0m\n\u001b[0;32m     22\u001b[0m     \u001b[0mscaling_all\u001b[0m \u001b[1;33m=\u001b[0m \u001b[0mpd\u001b[0m\u001b[1;33m.\u001b[0m\u001b[0mconcat\u001b[0m\u001b[1;33m(\u001b[0m\u001b[1;33m[\u001b[0m\u001b[0my_test_split\u001b[0m\u001b[1;33m,\u001b[0m\u001b[0mdf_y_pred\u001b[0m\u001b[1;33m]\u001b[0m\u001b[1;33m,\u001b[0m \u001b[0mkeys\u001b[0m\u001b[1;33m=\u001b[0m\u001b[1;33m[\u001b[0m\u001b[1;34m'y_test'\u001b[0m\u001b[1;33m,\u001b[0m\u001b[1;34m'y_pred'\u001b[0m\u001b[1;33m]\u001b[0m\u001b[1;33m)\u001b[0m\u001b[1;33m\u001b[0m\u001b[1;33m\u001b[0m\u001b[0m\n",
      "\u001b[1;31mAttributeError\u001b[0m: 'numpy.ndarray' object has no attribute 'columns'"
     ]
    }
   ],
   "source": [
    "# load dataset\n",
    "from keras.layers import Input, Embedding, LSTM, Dense\n",
    "x_train_split, x_test_split, y_train_split, y_test_split, x, y = get_dataset()\n",
    "y_train_split_new = np.diff(y_train_split)\n",
    "y_test_split_new = np.diff(y_test_split)\n",
    "y_new = np.diff(y)\n",
    "# evaluate model\n",
    "model_trained = train_model(x_train_split, y_train_split_new)\n",
    "scaled_ratio_y_pred, scaled_y_test = evaluation_model(model_trained, x_test_split, y_test_split_new)\n",
    "# summarize performance\n",
    "#print('MSE: %.3f (%.3f)' % (mean(results), std(results)))\n",
    "print('MSE: %.3f (%.3f)' % (scaled_y_test, scaled_ratio_y_pred))"
   ]
  },
  {
   "cell_type": "code",
   "execution_count": null,
   "metadata": {},
   "outputs": [],
   "source": []
  },
  {
   "cell_type": "code",
   "execution_count": null,
   "metadata": {},
   "outputs": [],
   "source": []
  }
 ],
 "metadata": {
  "kernelspec": {
   "display_name": "Python 3",
   "language": "python",
   "name": "python3"
  },
  "language_info": {
   "codemirror_mode": {
    "name": "ipython",
    "version": 3
   },
   "file_extension": ".py",
   "mimetype": "text/x-python",
   "name": "python",
   "nbconvert_exporter": "python",
   "pygments_lexer": "ipython3",
   "version": "3.8.3"
  }
 },
 "nbformat": 4,
 "nbformat_minor": 4
}
