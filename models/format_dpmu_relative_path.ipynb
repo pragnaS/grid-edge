{
 "cells": [
  {
   "cell_type": "code",
   "execution_count": 9,
   "metadata": {},
   "outputs": [],
   "source": [
    "import csv\n",
    "import sys\n",
    "import os"
   ]
  },
  {
   "cell_type": "code",
   "execution_count": 10,
   "metadata": {},
   "outputs": [
    {
     "data": {
      "text/plain": [
       "'C:/Users/simoni/OneDrive/Documents/grid-edge/data/target-data/scale15_targets'"
      ]
     },
     "execution_count": 10,
     "metadata": {},
     "output_type": "execute_result"
    }
   ],
   "source": [
    "#you must have python 3 or above to run this!\n",
    "\n",
    "#directory is a command line argument, path to folder of multi voltage csv's\n",
    "directory = os.getcwd()\n",
    "directory = directory.replace('models', 'data\\\\target-data\\\\scale15_targets')\n",
    "directory = directory.replace('\\\\', '/')\n",
    "directory"
   ]
  },
  {
   "cell_type": "code",
   "execution_count": 11,
   "metadata": {},
   "outputs": [
    {
     "name": "stdout",
     "output_type": "stream",
     "text": [
      "multi_voltageA.csv\n",
      "multi_voltageB.csv\n",
      "multi_voltageC.csv\n"
     ]
    }
   ],
   "source": [
    "for phase_data in os.listdir(directory):\n",
    "    #phase data is multi_voltageA.csv,multi_voltageB.csv etc.\n",
    "    print(phase_data)\n",
    "    with open(directory+ \"/\" + phase_data, \"r\") as f:\n",
    "        lines = f.readlines()\n",
    "\n",
    "#edited csv's will be put into a folder called \"edited_dpmu\" within the directory argument\n",
    "    with open(phase_data, \"w+\") as f:\n",
    "        for line in lines[8:]:\n",
    "                f.write(line)"
   ]
  }
 ],
 "metadata": {
  "kernelspec": {
   "display_name": "Python 3",
   "language": "python",
   "name": "python3"
  },
  "language_info": {
   "codemirror_mode": {
    "name": "ipython",
    "version": 3
   },
   "file_extension": ".py",
   "mimetype": "text/x-python",
   "name": "python",
   "nbconvert_exporter": "python",
   "pygments_lexer": "ipython3",
   "version": "3.8.3"
  }
 },
 "nbformat": 4,
 "nbformat_minor": 4
}
