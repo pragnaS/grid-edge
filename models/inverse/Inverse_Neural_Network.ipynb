{
 "cells": [
  {
   "cell_type": "code",
   "execution_count": null,
   "metadata": {},
   "outputs": [],
   "source": [
    "import numpy as np\n",
    "import pandas as pd\n",
    "import os"
   ]
  },
  {
   "cell_type": "markdown",
   "metadata": {},
   "source": [
    "# Data Preprocessing"
   ]
  },
  {
   "cell_type": "markdown",
   "metadata": {},
   "source": [
    "### Reading June DPMU data from gridlabD"
   ]
  },
  {
   "cell_type": "code",
   "execution_count": null,
   "metadata": {},
   "outputs": [],
   "source": [
    "dpmu_phaseA_june = pd.read_csv(r'C:\\Users\\pragn\\Desktop\\grid-edge\\data\\summer\\targets\\trimmed_targets\\june\\multi_voltageA.csv')\n",
    "dpmu_phaseB_june = pd.read_csv(r'C:\\Users\\pragn\\Desktop\\grid-edge\\data\\summer\\targets\\trimmed_targets\\june\\multi_voltageB.csv')\n",
    "dpmu_phaseC_june = pd.read_csv(r'C:\\Users\\pragn\\Desktop\\grid-edge\\data\\summer\\targets\\trimmed_targets\\june\\multi_voltageC.csv')"
   ]
  },
  {
   "cell_type": "markdown",
   "metadata": {},
   "source": [
    "### Reading July DPMU data from gridlabD"
   ]
  },
  {
   "cell_type": "code",
   "execution_count": null,
   "metadata": {},
   "outputs": [],
   "source": [
    "dpmu_phaseA_july = pd.read_csv(r'C:\\Users\\pragn\\Desktop\\grid-edge\\data\\summer\\targets\\trimmed_targets\\july\\multi_voltageA.csv')\n",
    "dpmu_phaseB_july = pd.read_csv(r'C:\\Users\\pragn\\Desktop\\grid-edge\\data\\summer\\targets\\trimmed_targets\\july\\multi_voltageB.csv')\n",
    "dpmu_phaseC_july = pd.read_csv(r'C:\\Users\\pragn\\Desktop\\grid-edge\\data\\summer\\targets\\trimmed_targets\\july\\multi_voltageC.csv')"
   ]
  },
  {
   "cell_type": "markdown",
   "metadata": {},
   "source": [
    "### Reading Aug DPMU data from gridlabD"
   ]
  },
  {
   "cell_type": "code",
   "execution_count": null,
   "metadata": {},
   "outputs": [],
   "source": [
    "dpmu_phaseA_aug = pd.read_csv(r'C:\\Users\\pragn\\Desktop\\grid-edge\\data\\summer\\targets\\trimmed_targets\\aug\\multi_voltageA.csv')\n",
    "dpmu_phaseB_aug = pd.read_csv(r'C:\\Users\\pragn\\Desktop\\grid-edge\\data\\summer\\targets\\trimmed_targets\\aug\\multi_voltageB.csv')\n",
    "dpmu_phaseC_aug = pd.read_csv(r'C:\\Users\\pragn\\Desktop\\grid-edge\\data\\summer\\targets\\trimmed_targets\\aug\\multi_voltageC.csv')"
   ]
  },
  {
   "cell_type": "markdown",
   "metadata": {},
   "source": [
    "### Reading Sept DPMU data from gridlabD"
   ]
  },
  {
   "cell_type": "code",
   "execution_count": null,
   "metadata": {},
   "outputs": [],
   "source": [
    "dpmu_phaseA_sept = pd.read_csv(r'C:\\Users\\pragn\\Desktop\\grid-edge\\data\\summer\\targets\\trimmed_targets\\sept\\multi_voltageA.csv')\n",
    "dpmu_phaseB_sept = pd.read_csv(r'C:\\Users\\pragn\\Desktop\\grid-edge\\data\\summer\\targets\\trimmed_targets\\sept\\multi_voltageB.csv')\n",
    "dpmu_phaseC_sept = pd.read_csv(r'C:\\Users\\pragn\\Desktop\\grid-edge\\data\\summer\\targets\\trimmed_targets\\sept\\multi_voltageC.csv')"
   ]
  },
  {
   "cell_type": "markdown",
   "metadata": {},
   "source": [
    "### Dropping Meter 5 data from all target dataframes"
   ]
  },
  {
   "cell_type": "code",
   "execution_count": null,
   "metadata": {},
   "outputs": [],
   "source": [
    "dpmu_phaseA_aug = dpmu_phaseA_aug.drop(['Meter5', '# timestamp'], axis=1)\n",
    "dpmu_phaseB_aug = dpmu_phaseB_aug.drop(['Meter5', '# timestamp'], axis=1)\n",
    "dpmu_phaseC_aug = dpmu_phaseC_aug.drop(['Meter5', '# timestamp'], axis=1)"
   ]
  },
  {
   "cell_type": "code",
   "execution_count": null,
   "metadata": {},
   "outputs": [],
   "source": [
    "dpmu_phaseA_july = dpmu_phaseA_july.drop(['Meter5', '# timestamp'], axis=1)\n",
    "dpmu_phaseB_july = dpmu_phaseB_july.drop(['Meter5', '# timestamp'], axis=1)\n",
    "dpmu_phaseC_july = dpmu_phaseC_july.drop(['Meter5', '# timestamp'], axis=1)"
   ]
  },
  {
   "cell_type": "code",
   "execution_count": null,
   "metadata": {},
   "outputs": [],
   "source": [
    "dpmu_phaseA_june = dpmu_phaseA_june.drop(['Meter5', '# timestamp'], axis=1)\n",
    "dpmu_phaseB_june = dpmu_phaseB_june.drop(['Meter5', '# timestamp'], axis=1)\n",
    "dpmu_phaseC_june = dpmu_phaseC_june.drop(['Meter5', '# timestamp'], axis=1)"
   ]
  },
  {
   "cell_type": "code",
   "execution_count": null,
   "metadata": {},
   "outputs": [],
   "source": [
    "dpmu_phaseA_sept = dpmu_phaseA_sept.drop(['Meter5', '# timestamp'], axis=1)\n",
    "dpmu_phaseB_sept = dpmu_phaseB_sept.drop(['Meter5', '# timestamp'], axis=1)\n",
    "dpmu_phaseC_sept = dpmu_phaseC_sept.drop(['Meter5', '# timestamp'], axis=1)"
   ]
  },
  {
   "cell_type": "markdown",
   "metadata": {},
   "source": [
    "### Formatting target dataframes "
   ]
  },
  {
   "cell_type": "code",
   "execution_count": null,
   "metadata": {},
   "outputs": [],
   "source": [
    "phaseA = 0\n",
    "phaseB = 1\n",
    "phaseC = 2"
   ]
  },
  {
   "cell_type": "code",
   "execution_count": null,
   "metadata": {},
   "outputs": [],
   "source": [
    "# creating target dpmu dataframe\n",
    "dpmu_data_june = pd.DataFrame()\n",
    "dpmu_data_july = pd.DataFrame()\n",
    "dpmu_data_aug = pd.DataFrame()\n",
    "dpmu_data_sept = pd.DataFrame()"
   ]
  },
  {
   "cell_type": "markdown",
   "metadata": {},
   "source": [
    "#### formatting june"
   ]
  },
  {
   "cell_type": "code",
   "execution_count": null,
   "metadata": {},
   "outputs": [],
   "source": [
    "for (columnName, columnData) in dpmu_phaseA_june.iteritems():\n",
    "    i=0\n",
    "    if 'Meter' in columnName:\n",
    "        split = columnName.split('Meter')\n",
    "        house_name = 'MeterA_'+ split[1]\n",
    "        i+=1\n",
    "        dpmu_values = pd.Series(columnData.values).str.replace(\"i\", \"j\").apply(lambda x: abs(complex(x)))\n",
    "        dpmu_data_june[house_name] = dpmu_values\n",
    "    else:\n",
    "        split_column_names = columnName.split('_')\n",
    "        house_name = 'house'+str(split_column_names[phaseA])\n",
    "        dpmu_values = pd.Series(columnData.values).str.replace(\"i\", \"j\").apply(lambda x: abs(complex(x)))\n",
    "        dpmu_data_june[house_name] = dpmu_values"
   ]
  },
  {
   "cell_type": "code",
   "execution_count": null,
   "metadata": {},
   "outputs": [],
   "source": [
    "for (columnName, columnData) in dpmu_phaseB_june.iteritems():\n",
    "    i=0\n",
    "    if 'Meter' in columnName:\n",
    "        split = columnName.split('Meter')\n",
    "        house_name = 'MeterB_'+ split[1]\n",
    "        i+=1\n",
    "        dpmu_values = pd.Series(columnData.values).str.replace(\"i\", \"j\").apply(lambda x: abs(complex(x)))\n",
    "        dpmu_data_june[house_name] = dpmu_values\n",
    "    else:\n",
    "        split_column_names = columnName.split('_')\n",
    "        house_name = 'house'+str(split_column_names[phaseB])\n",
    "        dpmu_values = pd.Series(columnData.values).str.replace(\"i\", \"j\").apply(lambda x: abs(complex(x)))\n",
    "        dpmu_data_june[house_name] = dpmu_values"
   ]
  },
  {
   "cell_type": "code",
   "execution_count": null,
   "metadata": {},
   "outputs": [],
   "source": [
    "for (columnName, columnData) in dpmu_phaseC_june.iteritems():\n",
    "    i=0\n",
    "    if 'Meter' in columnName:\n",
    "        split = columnName.split('Meter')\n",
    "        house_name = 'MeterC_'+ split[1]\n",
    "        i+=1\n",
    "        dpmu_values = pd.Series(columnData.values).str.replace(\"i\", \"j\").apply(lambda x: abs(complex(x)))\n",
    "        dpmu_data_june[house_name] = dpmu_values\n",
    "    else:\n",
    "        split_column_names = columnName.split('_')\n",
    "        house_name = 'house'+str(split_column_names[phaseC])\n",
    "        dpmu_values = pd.Series(columnData.values).str.replace(\"i\", \"j\").apply(lambda x: abs(complex(x)))\n",
    "        dpmu_data_june[house_name] = dpmu_values"
   ]
  },
  {
   "cell_type": "markdown",
   "metadata": {},
   "source": [
    "#### formatting july"
   ]
  },
  {
   "cell_type": "code",
   "execution_count": null,
   "metadata": {},
   "outputs": [],
   "source": [
    "for (columnName, columnData) in dpmu_phaseA_july.iteritems():\n",
    "    i=0\n",
    "    if 'Meter' in columnName:\n",
    "        split = columnName.split('Meter')\n",
    "        house_name = 'MeterA_'+ split[1]\n",
    "        i+=1\n",
    "        dpmu_values = pd.Series(columnData.values).str.replace(\"i\", \"j\").apply(lambda x: abs(complex(x)))\n",
    "        dpmu_data_july[house_name] = dpmu_values\n",
    "    else:\n",
    "        split_column_names = columnName.split('_')\n",
    "        house_name = 'house'+str(split_column_names[phaseA])\n",
    "        dpmu_values = pd.Series(columnData.values).str.replace(\"i\", \"j\").apply(lambda x: abs(complex(x)))\n",
    "        dpmu_data_july[house_name] = dpmu_values"
   ]
  },
  {
   "cell_type": "code",
   "execution_count": null,
   "metadata": {},
   "outputs": [],
   "source": [
    "for (columnName, columnData) in dpmu_phaseB_july.iteritems():\n",
    "    i=0\n",
    "    if 'Meter' in columnName:\n",
    "        split = columnName.split('Meter')\n",
    "        house_name = 'MeterB_'+ split[1]\n",
    "        i+=1\n",
    "        dpmu_values = pd.Series(columnData.values).str.replace(\"i\", \"j\").apply(lambda x: abs(complex(x)))\n",
    "        dpmu_data_july[house_name] = dpmu_values\n",
    "    else:\n",
    "        split_column_names = columnName.split('_')\n",
    "        house_name = 'house'+str(split_column_names[phaseB])\n",
    "        dpmu_values = pd.Series(columnData.values).str.replace(\"i\", \"j\").apply(lambda x: abs(complex(x)))\n",
    "        dpmu_data_july[house_name] = dpmu_values"
   ]
  },
  {
   "cell_type": "code",
   "execution_count": null,
   "metadata": {},
   "outputs": [],
   "source": [
    "for (columnName, columnData) in dpmu_phaseC_july.iteritems():\n",
    "    if 'Meter' in columnName:\n",
    "        split = columnName.split('Meter')\n",
    "        house_name = 'MeterC_'+ split[1]\n",
    "        i+=1\n",
    "        dpmu_values = pd.Series(columnData.values).str.replace(\"i\", \"j\").apply(lambda x: abs(complex(x)))\n",
    "        dpmu_data_july[house_name] = dpmu_values\n",
    "    else:\n",
    "        split_column_names = columnName.split('_')\n",
    "        house_name = 'house'+str(split_column_names[phaseC])\n",
    "        dpmu_values = pd.Series(columnData.values).str.replace(\"i\", \"j\").apply(lambda x: abs(complex(x)))\n",
    "        dpmu_data_july[house_name] = dpmu_values"
   ]
  },
  {
   "cell_type": "markdown",
   "metadata": {},
   "source": [
    "#### formatting aug"
   ]
  },
  {
   "cell_type": "code",
   "execution_count": null,
   "metadata": {},
   "outputs": [],
   "source": [
    "for (columnName, columnData) in dpmu_phaseA_aug.iteritems():\n",
    "    if 'Meter' in columnName:\n",
    "        split = columnName.split('Meter')\n",
    "        house_name = 'MeterA_'+ split[1]\n",
    "        i+=1\n",
    "        dpmu_values = pd.Series(columnData.values).str.replace(\"i\", \"j\").apply(lambda x: abs(complex(x)))\n",
    "        dpmu_data_aug[house_name] = dpmu_values\n",
    "    else:\n",
    "        split_column_names = columnName.split('_')\n",
    "        house_name = 'house'+str(split_column_names[phaseA])\n",
    "        dpmu_values = pd.Series(columnData.values).str.replace(\"i\", \"j\").apply(lambda x: abs(complex(x)))\n",
    "        dpmu_data_aug[house_name] = dpmu_values"
   ]
  },
  {
   "cell_type": "code",
   "execution_count": null,
   "metadata": {},
   "outputs": [],
   "source": [
    "for (columnName, columnData) in dpmu_phaseB_aug.iteritems():\n",
    "    if 'Meter' in columnName:\n",
    "        split = columnName.split('Meter')\n",
    "        house_name = 'MeterB_'+ split[1]\n",
    "        i+=1\n",
    "        dpmu_values = pd.Series(columnData.values).str.replace(\"i\", \"j\").apply(lambda x: abs(complex(x)))\n",
    "        dpmu_data_aug[house_name] = dpmu_values\n",
    "    else:\n",
    "        split_column_names = columnName.split('_')\n",
    "        house_name = 'house'+str(split_column_names[phaseB])\n",
    "        dpmu_values = pd.Series(columnData.values).str.replace(\"i\", \"j\").apply(lambda x: abs(complex(x)))\n",
    "        dpmu_data_aug[house_name] = dpmu_values"
   ]
  },
  {
   "cell_type": "code",
   "execution_count": null,
   "metadata": {},
   "outputs": [],
   "source": [
    "for (columnName, columnData) in dpmu_phaseC_aug.iteritems():\n",
    "    if 'Meter' in columnName:\n",
    "        split = columnName.split('Meter')\n",
    "        house_name = 'MeterC_'+ split[1]\n",
    "        i+=1\n",
    "        dpmu_values = pd.Series(columnData.values).str.replace(\"i\", \"j\").apply(lambda x: abs(complex(x)))\n",
    "        dpmu_data_aug[house_name] = dpmu_values\n",
    "    else:\n",
    "        split_column_names = columnName.split('_')\n",
    "        house_name = 'house'+str(split_column_names[phaseC])\n",
    "        dpmu_values = pd.Series(columnData.values).str.replace(\"i\", \"j\").apply(lambda x: abs(complex(x)))\n",
    "        dpmu_data_aug[house_name] = dpmu_values"
   ]
  },
  {
   "cell_type": "markdown",
   "metadata": {},
   "source": [
    "#### formatting sept"
   ]
  },
  {
   "cell_type": "code",
   "execution_count": null,
   "metadata": {},
   "outputs": [],
   "source": [
    "for (columnName, columnData) in dpmu_phaseA_sept.iteritems():\n",
    "    if 'Meter' in columnName:\n",
    "        split = columnName.split('Meter')\n",
    "        house_name = 'MeterA_'+ split[1]\n",
    "        i+=1\n",
    "        dpmu_values = pd.Series(columnData.values).str.replace(\"i\", \"j\").apply(lambda x: abs(complex(x)))\n",
    "        dpmu_data_sept[house_name] = dpmu_values\n",
    "    else:\n",
    "        split_column_names = columnName.split('_')\n",
    "        house_name = 'house'+str(split_column_names[phaseA])\n",
    "        dpmu_values = pd.Series(columnData.values).str.replace(\"i\", \"j\").apply(lambda x: abs(complex(x)))\n",
    "        dpmu_data_sept[house_name] = dpmu_values"
   ]
  },
  {
   "cell_type": "code",
   "execution_count": null,
   "metadata": {},
   "outputs": [],
   "source": [
    "for (columnName, columnData) in dpmu_phaseB_sept.iteritems():\n",
    "    if 'Meter' in columnName:\n",
    "        split = columnName.split('Meter')\n",
    "        house_name = 'MeterB_'+ split[1]\n",
    "        i+=1\n",
    "        dpmu_values = pd.Series(columnData.values).str.replace(\"i\", \"j\").apply(lambda x: abs(complex(x)))\n",
    "        dpmu_data_sept[house_name] = dpmu_values\n",
    "    else:\n",
    "        split_column_names = columnName.split('_')\n",
    "        house_name = 'house'+str(split_column_names[phaseB])\n",
    "        dpmu_values = pd.Series(columnData.values).str.replace(\"i\", \"j\").apply(lambda x: abs(complex(x)))\n",
    "        dpmu_data_sept[house_name] = dpmu_values"
   ]
  },
  {
   "cell_type": "code",
   "execution_count": null,
   "metadata": {},
   "outputs": [],
   "source": [
    "for (columnName, columnData) in dpmu_phaseC_sept.iteritems():\n",
    "    if 'Meter' in columnName:\n",
    "        split = columnName.split('Meter')\n",
    "        house_name = 'MeterC_'+ split[1]\n",
    "        i+=1\n",
    "        dpmu_values = pd.Series(columnData.values).str.replace(\"i\", \"j\").apply(lambda x: abs(complex(x)))\n",
    "        dpmu_data_sept[house_name] = dpmu_values\n",
    "    else:\n",
    "        split_column_names = columnName.split('_')\n",
    "        house_name = 'house'+str(split_column_names[phaseC])\n",
    "        dpmu_values = pd.Series(columnData.values).str.replace(\"i\", \"j\").apply(lambda x: abs(complex(x)))\n",
    "        dpmu_data_sept[house_name] = dpmu_values"
   ]
  },
  {
   "cell_type": "markdown",
   "metadata": {},
   "source": [
    "#### Visualizing formatted target dataframes by month"
   ]
  },
  {
   "cell_type": "code",
   "execution_count": null,
   "metadata": {},
   "outputs": [],
   "source": [
    "dpmu_data_june"
   ]
  },
  {
   "cell_type": "code",
   "execution_count": null,
   "metadata": {},
   "outputs": [],
   "source": [
    "dpmu_data_july"
   ]
  },
  {
   "cell_type": "code",
   "execution_count": null,
   "metadata": {},
   "outputs": [],
   "source": [
    "dpmu_data_aug"
   ]
  },
  {
   "cell_type": "code",
   "execution_count": null,
   "metadata": {},
   "outputs": [],
   "source": [
    "dpmu_data_sept"
   ]
  },
  {
   "cell_type": "code",
   "execution_count": null,
   "metadata": {},
   "outputs": [],
   "source": [
    "# concatenating june, july, aug, sept along rows\n",
    "dpmu_data = pd.concat([dpmu_data_june, dpmu_data_july, dpmu_data_aug, dpmu_data_sept], axis=0)"
   ]
  },
  {
   "cell_type": "code",
   "execution_count": null,
   "metadata": {},
   "outputs": [],
   "source": [
    "dpmu_data"
   ]
  },
  {
   "cell_type": "markdown",
   "metadata": {},
   "source": [
    "### Formatting Input dataframe"
   ]
  },
  {
   "cell_type": "code",
   "execution_count": null,
   "metadata": {},
   "outputs": [],
   "source": [
    "# creating input grid dataframe\n",
    "input_player_df_june = pd.DataFrame()\n",
    "input_player_df_july = pd.DataFrame()\n",
    "input_player_df_aug = pd.DataFrame()\n",
    "input_player_df_sept = pd.DataFrame()"
   ]
  },
  {
   "cell_type": "code",
   "execution_count": null,
   "metadata": {},
   "outputs": [],
   "source": [
    "directory = r\"C:\\Users\\pragn\\Desktop\\grid-edge\\data\\summer\\input_csv\\june\"\n",
    "\n",
    "for filename in os.listdir(directory):\n",
    "    if str(filename).startswith('25.csv') or str(filename).startswith('analyze-player'):\n",
    "        continue\n",
    "    player = pd.read_csv(os.path.join(directory, filename))\n",
    "    player['grid'] = player['grid'].str.replace(\"i\", \"j\").apply(lambda x: complex(x))\n",
    "    node_id = player['id'].loc[0]\n",
    "    column_name_p = 'p_'+str(node_id)\n",
    "    column_name_q = 'q_'+str(node_id)\n",
    "    input_player_df_june[column_name_p] = player['grid'].apply(lambda x: x.real).head(44640)\n",
    "    input_player_df_june[column_name_q] = player['grid'].apply(lambda x: x.imag).head(44640)"
   ]
  },
  {
   "cell_type": "code",
   "execution_count": null,
   "metadata": {},
   "outputs": [],
   "source": [
    "directory = r\"C:\\Users\\pragn\\Desktop\\grid-edge\\data\\summer\\input_csv\\july\"\n",
    "\n",
    "for filename in os.listdir(directory):\n",
    "    if str(filename).startswith('25.csv'):\n",
    "        continue\n",
    "    player = pd.read_csv(os.path.join(directory, filename))\n",
    "    player['grid'] = player['grid'].str.replace(\"i\", \"j\").apply(lambda x: complex(x))\n",
    "    node_id = player['id'].loc[0]\n",
    "    column_name_p = 'p_'+str(node_id)\n",
    "    column_name_q = 'q_'+str(node_id)\n",
    "    input_player_df_july[column_name_p] = player['grid'].apply(lambda x: x.real).head(44640)\n",
    "    input_player_df_july[column_name_q] = player['grid'].apply(lambda x: x.imag).head(44640)"
   ]
  },
  {
   "cell_type": "code",
   "execution_count": null,
   "metadata": {},
   "outputs": [],
   "source": [
    "directory = r\"C:\\Users\\pragn\\Desktop\\grid-edge\\data\\summer\\input_csv\\aug\"\n",
    "\n",
    "for filename in os.listdir(directory):\n",
    "    if str(filename).startswith('25.csv') or str(filename).startswith('analyze-player'):\n",
    "        continue\n",
    "    player = pd.read_csv(os.path.join(directory, filename))\n",
    "    player['grid'] = player['grid'].str.replace(\"i\", \"j\").apply(lambda x: complex(x))\n",
    "    node_id = player['id'].loc[0]\n",
    "    column_name_p = 'p_'+str(node_id)\n",
    "    column_name_q = 'q_'+str(node_id)\n",
    "    input_player_df_aug[column_name_p] = player['grid'].apply(lambda x: x.real).head(44640)\n",
    "    input_player_df_aug[column_name_q] = player['grid'].apply(lambda x: x.imag).head(44640)\n"
   ]
  },
  {
   "cell_type": "code",
   "execution_count": null,
   "metadata": {},
   "outputs": [],
   "source": [
    "directory = r\"C:\\Users\\pragn\\Desktop\\grid-edge\\data\\summer\\input_csv\\sept\"\n",
    "\n",
    "for filename in os.listdir(directory):\n",
    "    if str(filename).startswith('25.csv') or str(filename).startswith('analyze-player'):\n",
    "        continue\n",
    "    player = pd.read_csv(os.path.join(directory, filename))\n",
    "    player['grid'] = player['grid'].str.replace(\"i\", \"j\").apply(lambda x: complex(x))\n",
    "    node_id = player['id'].loc[0]\n",
    "    column_name_p = 'p_'+str(node_id)\n",
    "    column_name_q = 'q_'+str(node_id)\n",
    "    input_player_df_sept[column_name_p] = player['grid'].apply(lambda x: x.real).head(44640)\n",
    "    input_player_df_sept[column_name_q] = player['grid'].apply(lambda x: x.imag).head(44640)\n"
   ]
  },
  {
   "cell_type": "markdown",
   "metadata": {},
   "source": [
    "### Input Dataframe"
   ]
  },
  {
   "cell_type": "code",
   "execution_count": null,
   "metadata": {},
   "outputs": [],
   "source": [
    "input_player_df = pd.concat([input_player_df_june, input_player_df_july, input_player_df_aug, input_player_df_sept], axis=0)"
   ]
  },
  {
   "cell_type": "code",
   "execution_count": null,
   "metadata": {},
   "outputs": [],
   "source": [
    "input_player_df"
   ]
  },
  {
   "cell_type": "markdown",
   "metadata": {},
   "source": [
    "## Inverse Neural Net"
   ]
  },
  {
   "cell_type": "code",
   "execution_count": null,
   "metadata": {},
   "outputs": [],
   "source": [
    "def get_scaled_MSE(y_target, y_pred):\n",
    "    \n",
    "    y_target = pd.DataFrame(y_target)\n",
    "    y_pred = pd.DataFrame(y_pred)\n",
    "    \n",
    "    #finding L2 norm of the y_target vectors\n",
    "    L2_ratios = []\n",
    "    for index, row in y_target.iterrows():\n",
    "        L2_ratios.append(LA.norm(row))\n",
    "        \n",
    "    #dividing all y_pred by the L2 ratios:\n",
    "    ratio_index = 0\n",
    "    scaled_ratio_y_pred = []\n",
    "    for index, row in y_pred.iterrows():\n",
    "        scaled_ratio_y_pred.append(row/L2_ratios[ratio_index])\n",
    "        ratio_index += 1\n",
    "        \n",
    "    #dividing all y_target by the L2 ratios:\n",
    "    ratio_index = 0\n",
    "    scaled_ratio_y_target = []\n",
    "    for index, row in y_target.iterrows():\n",
    "        scaled_ratio_y_target.append(row/L2_ratios[ratio_index])\n",
    "        ratio_index += 1\n",
    "    \n",
    "    mse = mean_squared_error(scaled_ratio_y_pred, scaled_ratio_y_target)\n",
    "    \n",
    "    return mse"
   ]
  },
  {
   "cell_type": "code",
   "execution_count": null,
   "metadata": {},
   "outputs": [],
   "source": [
    "# get the dataset\n",
    "def get_dataset():\n",
    "    X, y = input_player_df.copy().to_numpy(), dpmu_data.copy().to_numpy()\n",
    "    X = X[172000:]\n",
    "    y = y[172000:]\n",
    "    X_val = X[:3680]\n",
    "    y_val = y[:3680]\n",
    "    return X, y, X_val, y_val"
   ]
  },
  {
   "cell_type": "code",
   "execution_count": null,
   "metadata": {},
   "outputs": [],
   "source": [
    "# get the model\n",
    "def get_inn_model(n_inputs, n_outputs):\n",
    "    model = Sequential()\n",
    "    model.add(Dense(48, activation = 'sigmoid'))\n",
    "    model.add(Dense(n_outputs))\n",
    "    a_optimizer = Adam(learning_rate=0.01, beta_1=0.9, beta_2=0.99, epsilon=1e-06, amsgrad=False,name='Adam')\n",
    "    model.compile(loss='mse', optimizer=a_optimizer)\n",
    "\n",
    "    return model"
   ]
  },
  {
   "cell_type": "code",
   "execution_count": null,
   "metadata": {},
   "outputs": [],
   "source": [
    "# load dataset\n",
    "X, y, X_val, y_val = get_dataset()\n",
    "\n",
    "# scale target data\n",
    "y = y/2400\n",
    "y_val = y_val/2400"
   ]
  },
  {
   "cell_type": "code",
   "execution_count": null,
   "metadata": {},
   "outputs": [],
   "source": [
    "model = get_inn_model(X.shape[1], y.shape[1])\n",
    "# fit model\n",
    "model.fit(X, y, verbose=1, epochs=200)"
   ]
  },
  {
   "cell_type": "code",
   "execution_count": null,
   "metadata": {},
   "outputs": [],
   "source": [
    "y_pred = model.predict(X_val)\n",
    "print(\"MSE: \", get_scaled_MSE(y_val, y_pred))"
   ]
  },
  {
   "cell_type": "code",
   "execution_count": null,
   "metadata": {},
   "outputs": [],
   "source": [
    "pd.DataFrame(y_pred)"
   ]
  },
  {
   "cell_type": "code",
   "execution_count": null,
   "metadata": {},
   "outputs": [],
   "source": [
    "pd.DataFrame(y_val)"
   ]
  }
 ],
 "metadata": {
  "kernelspec": {
   "display_name": "Python 3",
   "language": "python",
   "name": "python3"
  },
  "language_info": {
   "codemirror_mode": {
    "name": "ipython",
    "version": 3
   },
   "file_extension": ".py",
   "mimetype": "text/x-python",
   "name": "python",
   "nbconvert_exporter": "python",
   "pygments_lexer": "ipython3",
   "version": "3.8.3"
  }
 },
 "nbformat": 4,
 "nbformat_minor": 4
}
