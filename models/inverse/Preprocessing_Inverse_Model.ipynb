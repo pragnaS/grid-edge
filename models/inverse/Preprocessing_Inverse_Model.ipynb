{
 "cells": [
  {
   "cell_type": "code",
   "execution_count": 1,
   "metadata": {},
   "outputs": [],
   "source": [
    "import numpy as np\n",
    "import pandas as pd\n",
    "from datetime import datetime,date\n",
    "from pandas.tseries.holiday import USFederalHolidayCalendar\n",
    "import os"
   ]
  },
  {
   "cell_type": "code",
   "execution_count": 2,
   "metadata": {},
   "outputs": [
    {
     "name": "stdout",
     "output_type": "stream",
     "text": [
      "Stored 'include_kmeans' (int)\n",
      "Stored 'include_PCA' (int)\n",
      "Stored 'include_holidays' (int)\n",
      "Stored 'include_wknds' (int)\n",
      "Stored 'include_dayofweek' (int)\n",
      "Stored 'include_phase' (int)\n"
     ]
    }
   ],
   "source": [
    "base_path_DPMU = \"..\\\\..\\\\data\\\\summer\\\\targets\\\\trimmed_targets\"\n",
    "all_months_DPMU = {} ##{mm:{a:, b:, c:}, mm:{a:,b:,c:}}\n",
    "\n",
    "include_kmeans = 1\n",
    "include_PCA = 0\n",
    "include_holidays = 0\n",
    "include_wknds = 0\n",
    "include_dayofweek = 0\n",
    "include_phase = 0\n",
    "%store include_kmeans\n",
    "%store include_PCA\n",
    "%store include_holidays\n",
    "%store include_wknds\n",
    "%store include_dayofweek\n",
    "%store include_phase"
   ]
  },
  {
   "cell_type": "markdown",
   "metadata": {},
   "source": [
    "# Input (DPMU) Preprocessing (sends to X.csv)"
   ]
  },
  {
   "cell_type": "code",
   "execution_count": 3,
   "metadata": {},
   "outputs": [],
   "source": [
    "#modifies raw (trimmed) csv to add time features and process the various phases/houses\n",
    "def modify_csv(month_phase_csv, month_func, year_user):\n",
    "    ##time modifications\n",
    "    month_fill = 0\n",
    "    if month_func == 'june':\n",
    "        month_fill = 6\n",
    "    elif month_func == 'july':\n",
    "        month_fill = 7\n",
    "    elif month_func == 'aug':\n",
    "        month_fill = 8\n",
    "    elif month_func == 'sept':\n",
    "        month_fill = 9\n",
    "    time = month_phase_csv['# timestamp']\n",
    "    time = pd.Series(time)\n",
    "    time = time.str.split(\" \")\n",
    "    for index in range(len(time)):\n",
    "        del time[index][2]\n",
    "    time\n",
    "    month = []\n",
    "    hour = []\n",
    "    for index in range(len(time)):\n",
    "        month.append(datetime.strptime(time[index][0],'%Y-%m-%d'))\n",
    "        hour.append(datetime.strptime(time[index][1],'%H:%M:%S'))\n",
    "    date = []\n",
    "    timestamp = []\n",
    "\n",
    "    for index in range(len(time)):\n",
    "        for jindex in range(len(time[index])):\n",
    "            if \"-\" in time[index][jindex]:\n",
    "                date.append(time[index][jindex].split(\"-\"))\n",
    "            if \":\" in time[index][jindex]:\n",
    "                timestamp.append(time[index][jindex].split(\":\"))\n",
    "    date = np.array(date)\n",
    "    timestamp = np.array(timestamp)\n",
    "    #separating the individual values into different list\n",
    "    year = []\n",
    "    month = []\n",
    "    day = []\n",
    "    for y in range(len(date)):\n",
    "        year.append(date[y][0])\n",
    "        month.append(date[y][1])\n",
    "        day.append(date[y][2])\n",
    "\n",
    "    #do special processing for the hours and minutes\n",
    "    day_min = []\n",
    "    for y in range(len(timestamp)):\n",
    "        hour_min_added = int(timestamp[y][0]) * 60\n",
    "        hour_min_added = hour_min_added + int(timestamp[y][1])\n",
    "        day_min.append(hour_min_added) \n",
    "\n",
    "    ##code to overwrite 'January' outputs for csv's    \n",
    "    year = [year_user] * len(date)\n",
    "    month = [month_fill] * len(date)\n",
    "        \n",
    "    time_df = pd.DataFrame()\n",
    "    time_df[\"year\"] = year\n",
    "    time_df[\"month\"] = month\n",
    "    time_df[\"day\"] = day\n",
    "    \n",
    "\n",
    "    time_df[\"hour_min\"] = day_min\n",
    "        \n",
    "    month_phase_mod = month_phase_csv.drop(['Meter5', '# timestamp'], axis=1)\n",
    "    month_phase_mod = pd.concat([month_phase_mod,time_df], axis=1)\n",
    "    #print (month_phase_mod)\n",
    "    return month_phase_mod"
   ]
  },
  {
   "cell_type": "code",
   "execution_count": 4,
   "metadata": {},
   "outputs": [],
   "source": [
    "#modifies the global all_months_DPMU. When this is over, that array will have all the necessary information to be concatenated into a giant array.\n",
    "def sep_DPMU_features():\n",
    "    #print (base_path_DPMU)\n",
    "    for month in os.listdir(base_path_DPMU):\n",
    "        month_path = os.path.join(base_path_DPMU,month)\n",
    "        month_dict = {}\n",
    "        for multi_voltage_output in os.listdir(month_path):\n",
    "            full_csv_path = os.path.join(month_path,multi_voltage_output)\n",
    "            #print(full_csv_path)\n",
    "            cut_voltage = multi_voltage_output[:-4]\n",
    "            #print(cut_voltage)\n",
    "            letter = cut_voltage[-1:]\n",
    "            #print(letter)\n",
    "            dpmu_phase_month = \"dpmu_phase\" + letter + \"_\" + month\n",
    "            raw_csv = pd.read_csv(full_csv_path)\n",
    "            month_dict[letter] = modify_csv(raw_csv, month, 2018)\n",
    "        #add month dictionary\n",
    "        all_months_DPMU[month]=month_dict\n",
    "    #return all the months it found in the base dir\n",
    "    return list(all_months_DPMU.keys())\n",
    "    "
   ]
  },
  {
   "cell_type": "code",
   "execution_count": 5,
   "metadata": {},
   "outputs": [],
   "source": [
    "def DPMU(phase, dpmu_data, letter):\n",
    "    phase_letter = ord(letter) - 65\n",
    "    #print(phase_letter)\n",
    "    for (columnName, columnData) in phase.iteritems():\n",
    "        i=0\n",
    "        if 'Meter' in columnName: ##meters\n",
    "            split = columnName.split('Meter')\n",
    "            house_name = f'Meter{letter}_'+ split[1]\n",
    "            i+=1\n",
    "            dpmu_values = pd.Series(columnData.values).str.replace(\"i\", \"j\").apply(lambda x: abs(complex(x)))\n",
    "            dpmu_data[house_name] = dpmu_values\n",
    "        elif 'node' in columnName : ##nodes\n",
    "            split_column_names = columnName.split('_')\n",
    "            house_name = 'house'+str(split_column_names[phase_letter])\n",
    "            dpmu_values = pd.Series(columnData.values).str.replace(\"i\", \"j\").apply(lambda x: abs(complex(x)))\n",
    "            dpmu_data[house_name] = dpmu_values\n",
    "        else: ##timestamps, day_min\n",
    "            if letter == 'A':\n",
    "                dpmu_data[columnName] = pd.Series(columnData.values)\n",
    "    return dpmu_data\n",
    "    "
   ]
  },
  {
   "cell_type": "code",
   "execution_count": 6,
   "metadata": {},
   "outputs": [],
   "source": [
    "def concat_all_DPMU():\n",
    "    all_months_to_concat = []\n",
    "    for month in all_months_DPMU:\n",
    "        #print(month)\n",
    "        dpmu_data_month = pd.DataFrame()\n",
    "        for phase in all_months_DPMU[month]:\n",
    "            #print (phase)\n",
    "            dpmu_data_month = DPMU(all_months_DPMU[month][phase.upper()], dpmu_data_month, phase.upper())\n",
    "        all_months_to_concat.append(dpmu_data_month)\n",
    "    input_dataframe_DPMU = pd.DataFrame() ##concatenates all months, directly to input\n",
    "    input_dataframe_DPMU = pd.concat(all_months_to_concat, ignore_index = True)\n",
    "    return (input_dataframe_DPMU)\n",
    "    \n",
    "        "
   ]
  },
  {
   "cell_type": "code",
   "execution_count": 7,
   "metadata": {},
   "outputs": [],
   "source": [
    "from sklearn.cluster import KMeans\n",
    "from sklearn import metrics\n",
    "import matplotlib.pyplot as plt\n",
    "def sep_DPMU_clusters_kmeans(): #simoni\n",
    "    # determined convergence to be 5 clusters .. see png\n",
    "    #sum_of_squared_distances = []\n",
    "    #K = range(1,37)\n",
    "    #for k in K:\n",
    "    #    print(k)\n",
    "    #    k_means = KMeans(n_clusters=k)\n",
    "    #    model = k_means.fit(in_csv)\n",
    "    #    sum_of_squared_distances.append(k_means.inertia_)\n",
    "    #    print(k_means.inertia_)\n",
    "    #plt.plot(K, sum_of_squared_distances, 'bx-')\n",
    "    #plt.xlabel('k')\n",
    "    #plt.ylabel('sum_of_squared_distances')\n",
    "    #plt.title('elbow method for optimal k')\n",
    "    #plt.show()\n",
    "    kmeans_df = in_csv\n",
    "    k_means = KMeans(n_clusters=5)\n",
    "    model = k_means.fit(kmeans_df)\n",
    "    #labels = k_means.labels_\n",
    "    #print(metrics.silhouette_score(kmeans_df, labels, metric = 'euclidean'))\n",
    "    #print(metrics.calinski_harabasz_score(kmeans_df, labels))"
   ]
  },
  {
   "cell_type": "code",
   "execution_count": 8,
   "metadata": {},
   "outputs": [],
   "source": [
    "from sklearn.decomposition import PCA\n",
    "import matplotlib.pyplot as plt\n",
    "def sep_DPMU_clusters_PCA(): #simoni\n",
    "    pca_df = in_csv\n",
    "    pca = PCA(n_components=37) # set to max components to determine convergence\n",
    "    pca.fit(pca_df)\n",
    "    plt.plot(np.cumsum(pca.explained_variance_ratio_))\n",
    "    plt.xlabel('Number of components')\n",
    "    plt.ylabel('Cumulative explained variance') # returns that best # of components for convergence is ~10"
   ]
  },
  {
   "cell_type": "code",
   "execution_count": 9,
   "metadata": {},
   "outputs": [],
   "source": [
    "def phase_clustering(): #swetha\n",
    "    print(in_csv)\n",
    "    #only keep one house/meter from each phase\n",
    "    in_csv.drop(in_csv.columns.difference(['MeterA_1', 'MeterB_1', 'MeterC_1', 'housenode1', 'housenode2', 'housenode3', 'year',\n",
    "                                          'month', 'day', 'hour_min']), 1, inplace=True)\n",
    "    #print phase_clustering_df\n",
    "\n",
    "    "
   ]
  },
  {
   "cell_type": "code",
   "execution_count": 10,
   "metadata": {},
   "outputs": [],
   "source": [
    "#return df modified to include flags for holidays\n",
    "def add_holidays(): #swetha\n",
    "    print(in_csv)\n",
    "    cal = USFederalHolidayCalendar()\n",
    "    holidays = cal.holidays(start='2018-01-01', end='2018-12-31').to_pydatetime()\n",
    "\n",
    "    holiday_array = []\n",
    "    for i in range((in_csv.shape[0])):\n",
    "        if datetime(int(in_csv.loc[in_csv.index[i], 'year']),\n",
    "                   int(in_csv.loc[in_csv.index[i], 'month']),\n",
    "                   int(in_csv.loc[in_csv.index[i], 'day'])) in holidays:\n",
    "            holiday_array.append(1)\n",
    "        else:\n",
    "            holiday_array.append(0)\n",
    "            \n",
    "    in_csv[\"is_holiday\"] = holiday_array\n"
   ]
  },
  {
   "cell_type": "code",
   "execution_count": 11,
   "metadata": {},
   "outputs": [],
   "source": [
    "#return df modified to include flags for weekend\n",
    "def add_weekends(): #swetha\n",
    "\n",
    "    wknd_array = []\n",
    "    for i in range((in_csv.shape[0])):\n",
    "        wkday = date(int(in_csv.loc[in_csv.index[i], 'year']),\n",
    "                   int(in_csv.loc[in_csv.index[i], 'month']),\n",
    "                   int(in_csv.loc[in_csv.index[i], 'day'])).weekday()\n",
    "        is_wknd = 1 if wkday>=4 else 0\n",
    "        wknd_array.append(is_wknd)\n",
    "    in_csv[\"is_weekend\"] = wknd_array\n"
   ]
  },
  {
   "cell_type": "code",
   "execution_count": 12,
   "metadata": {},
   "outputs": [],
   "source": [
    "#return df modified to include flags for weekend\n",
    "def add_dayofweek(): #swetha\n",
    "\n",
    "    wk_array = []\n",
    "    for i in range((in_csv.shape[0])):\n",
    "        wkday = date(int(in_csv.loc[in_csv.index[i], 'year']),\n",
    "                   int(in_csv.loc[in_csv.index[i], 'month']),\n",
    "                   int(in_csv.loc[in_csv.index[i], 'day'])).isoweekday()\n",
    "        wk_array.append(wkday)\n",
    "\n",
    "    in_csv[\"day_of_week\"] = wk_array\n"
   ]
  },
  {
   "cell_type": "code",
   "execution_count": null,
   "metadata": {},
   "outputs": [],
   "source": [
    "##all_months_DPMU will have a dictionary of csv's for each month, each phase\n",
    "sep_DPMU_features()"
   ]
  },
  {
   "cell_type": "code",
   "execution_count": null,
   "metadata": {},
   "outputs": [],
   "source": [
    "##input_dataframe_DPMU will have large dataframe of input data\n",
    "send_input_to_csv = pd.DataFrame()\n",
    "send_input_to_csv = concat_all_DPMU()"
   ]
  },
  {
   "cell_type": "code",
   "execution_count": null,
   "metadata": {},
   "outputs": [],
   "source": [
    "send_input_to_csv"
   ]
  },
  {
   "cell_type": "code",
   "execution_count": null,
   "metadata": {},
   "outputs": [],
   "source": [
    "list(send_input_to_csv.columns)"
   ]
  },
  {
   "cell_type": "code",
   "execution_count": null,
   "metadata": {},
   "outputs": [],
   "source": [
    "send_input_to_csv = send_input_to_csv[['MeterA_1', 'MeterA_2', 'MeterA_3', \n",
    "                                       'MeterB_1', 'MeterB_2', 'MeterB_3',\n",
    "                                      'MeterC_1', 'MeterC_2', 'MeterC_3',\n",
    "                                      'housenode1','housenode4','housenode7',\n",
    "                                       'housenode13','housenode10','housenode22',\n",
    "                                       'housenode19','housenode16',\n",
    "                                      'house2','house5', 'house8','house14',\n",
    "                                       'house11','house23','house20','house17',\n",
    "                                       'house3','house6','house9','house15','house12',\n",
    "                                       'house24','house21','house18',\n",
    "                                       'year','month','day','hour_min']]"
   ]
  },
  {
   "cell_type": "markdown",
   "metadata": {},
   "source": [
    "# No clustering"
   ]
  },
  {
   "cell_type": "code",
   "execution_count": null,
   "metadata": {},
   "outputs": [],
   "source": [
    "in_csv = pd.DataFrame()\n",
    "in_csv = send_input_to_csv.copy()\n",
    "send_input_to_csv.to_csv('../../data/input/X.csv')"
   ]
  },
  {
   "cell_type": "code",
   "execution_count": null,
   "metadata": {},
   "outputs": [],
   "source": [
    "in_csv"
   ]
  },
  {
   "cell_type": "markdown",
   "metadata": {},
   "source": [
    "# K-means, PCA, phase, holidays, weekends"
   ]
  },
  {
   "cell_type": "code",
   "execution_count": null,
   "metadata": {},
   "outputs": [],
   "source": [
    "csv_name = \"X\"\n",
    "\n",
    "\n",
    "if (include_kmeans):\n",
    "    sep_DPMU_clusters_kmeans()\n",
    "    csv_name = csv_name + \"_kmeans\"\n",
    "\n",
    "if(include_PCA):\n",
    "    sep_DPMU_clusters_PCA()\n",
    "    csv_name = csv_name + \"_pca\"\n",
    "\n",
    "if(include_phase):\n",
    "    phase_clustering()\n",
    "    csv_name = csv_name + \"_phase\"\n",
    "    \n",
    "if(include_holidays):\n",
    "    add_holidays()\n",
    "    csv_name = csv_name + \"_holidays\"\n",
    "    \n",
    "if(include_wknds):\n",
    "    add_weekends()\n",
    "    csv_name = csv_name + \"_weekends\"\n",
    "    \n",
    "if(include_dayofweek):\n",
    "    add_dayofweek()\n",
    "    csv_name = csv_name + \"_weekdays\"\n"
   ]
  },
  {
   "cell_type": "code",
   "execution_count": null,
   "metadata": {},
   "outputs": [],
   "source": [
    "csv_name"
   ]
  },
  {
   "cell_type": "code",
   "execution_count": null,
   "metadata": {},
   "outputs": [],
   "source": [
    "in_csv"
   ]
  },
  {
   "cell_type": "code",
   "execution_count": null,
   "metadata": {},
   "outputs": [],
   "source": [
    "csv_name = csv_name + \".csv\"\n",
    "in_csv.to_csv('../../data/input/' + csv_name)"
   ]
  },
  {
   "cell_type": "markdown",
   "metadata": {},
   "source": [
    "# Output (Grid) Preprocessing (sends to Y.csv)"
   ]
  },
  {
   "cell_type": "code",
   "execution_count": null,
   "metadata": {},
   "outputs": [],
   "source": [
    "base_path_Player = \"..\\\\..\\\\data\\\\summer\\\\input_csv\""
   ]
  },
  {
   "cell_type": "code",
   "execution_count": null,
   "metadata": {},
   "outputs": [],
   "source": [
    "def set_output():\n",
    "    month_players = []\n",
    "    for month in os.listdir(base_path_Player):\n",
    "        month_path = os.path.join(base_path_Player,month)\n",
    "        input_player_df = pd.DataFrame()\n",
    "        for filename in os.listdir(month_path):\n",
    "            if str(filename).startswith('25.csv'):\n",
    "                continue\n",
    "            player = pd.read_csv(os.path.join(month_path, filename))\n",
    "            player['grid'] = player['grid'].str.replace(\"i\", \"j\").apply(lambda x: complex(x))\n",
    "            node_id = player['id'].loc[0]\n",
    "            column_name_p = 'p_'+str(node_id)\n",
    "            column_name_q = 'q_'+str(node_id)\n",
    "        #change .head() value to target dataframe row number\n",
    "            input_player_df[column_name_p] = player['grid'].apply(lambda x: x.real).head(44640)\n",
    "            input_player_df[column_name_q] = player['grid'].apply(lambda x: x.imag).head(44640)\n",
    "        month_players.append(input_player_df)\n",
    "    output_dataframe_Player = pd.DataFrame() ##concatenates all months, directly to input\n",
    "    output_dataframe_Player = pd.concat(month_players, ignore_index = True)\n",
    "    return (output_dataframe_Player)\n",
    "    \n",
    "    "
   ]
  },
  {
   "cell_type": "code",
   "execution_count": null,
   "metadata": {},
   "outputs": [],
   "source": [
    "##input_dataframe_DPMU will have large dataframe of input data\n",
    "send_targets_to_csv = pd.DataFrame()\n",
    "send_targets_to_csv = set_output()"
   ]
  },
  {
   "cell_type": "code",
   "execution_count": null,
   "metadata": {},
   "outputs": [],
   "source": [
    "send_targets_to_csv"
   ]
  },
  {
   "cell_type": "code",
   "execution_count": null,
   "metadata": {},
   "outputs": [],
   "source": [
    "send_targets_to_csv.to_csv('../../data/outputs/Y.csv')"
   ]
  }
 ],
 "metadata": {
  "kernelspec": {
   "display_name": "Python 3",
   "language": "python",
   "name": "python3"
  },
  "language_info": {
   "codemirror_mode": {
    "name": "ipython",
    "version": 3
   },
   "file_extension": ".py",
   "mimetype": "text/x-python",
   "name": "python",
   "nbconvert_exporter": "python",
   "pygments_lexer": "ipython3",
   "version": "3.8.3"
  }
 },
 "nbformat": 4,
 "nbformat_minor": 4
}
