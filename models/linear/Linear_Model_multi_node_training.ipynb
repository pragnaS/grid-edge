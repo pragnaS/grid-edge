{
 "cells": [
  {
   "cell_type": "code",
   "execution_count": null,
   "metadata": {},
   "outputs": [],
   "source": [
    "import numpy as np\n",
    "import pandas as pd\n",
    "import os"
   ]
  },
  {
   "cell_type": "code",
   "execution_count": null,
   "metadata": {},
   "outputs": [],
   "source": [
    "#reading DPMU phase A output from gridlabD\n",
    "dpmu_phaseA = pd.read_csv('multi_voltageA.csv')\n",
    "dpmu_phaseB = pd.read_csv('multi_voltageB.csv')\n",
    "dpmu_phaseC = pd.read_csv('multi_voltageC.csv')\n"
   ]
  },
  {
   "cell_type": "code",
   "execution_count": null,
   "metadata": {},
   "outputs": [],
   "source": [
    "column_names = [\"NodeId\", \"realA\", \"imagA\", \"realB\", \"imagB\", \"realC\", \"imagC\"]"
   ]
  },
  {
   "cell_type": "code",
   "execution_count": null,
   "metadata": {},
   "outputs": [],
   "source": [
    "dpmu_data = pd.DataFrame(columns=column_names)"
   ]
  },
  {
   "cell_type": "code",
   "execution_count": null,
   "metadata": {},
   "outputs": [],
   "source": [
    "index = 0\n",
    "for (nodeName, nodePhaseA) in dpmu_phaseA.iteritems():\n",
    "    if nodeName == '# timestamp' or nodeName == 'Node650' or nodeName == 'Node632' or nodeName == 'Node633' or nodeName == 'Node684' or nodeName == 'Node680':\n",
    "        continue\n",
    "    nodePhaseA_values = pd.Series(nodePhaseA.values).str.replace(\"i\", \"j\").apply(lambda x: complex(x))\n",
    "    \n",
    "    for val in nodePhaseA_values:\n",
    "            dpmu_data.loc[index, 'NodeId'] = nodeName\n",
    "            dpmu_data.loc[index, 'realA'] = val.real\n",
    "            dpmu_data.loc[index, 'imagA'] = val.imag\n",
    "            index = index+1\n",
    "             "
   ]
  },
  {
   "cell_type": "code",
   "execution_count": null,
   "metadata": {},
   "outputs": [],
   "source": [
    "index = 0\n",
    "for (nodeName, nodePhaseB) in dpmu_phaseB.iteritems():\n",
    "    if nodeName == '# timestamp' or nodeName == 'Node650' or nodeName == 'Node632' or nodeName == 'Node633' or nodeName == 'Node684' or nodeName == 'Node680':\n",
    "        continue\n",
    "    nodePhaseB_values = pd.Series(nodePhaseB.values).str.replace(\"i\", \"j\").apply(lambda x: complex(x))\n",
    "    \n",
    "    for val in nodePhaseB_values:\n",
    "            dpmu_data.loc[index, 'NodeId'] = nodeName\n",
    "            dpmu_data.loc[index, 'realB'] = val.real\n",
    "            dpmu_data.loc[index, 'imagB'] = val.imag\n",
    "            index = index+1"
   ]
  },
  {
   "cell_type": "code",
   "execution_count": null,
   "metadata": {},
   "outputs": [],
   "source": [
    "index = 0\n",
    "for (nodeName, nodePhaseC) in dpmu_phaseC.iteritems():\n",
    "    if nodeName == '# timestamp' or nodeName == 'Node650' or nodeName == 'Node632' or nodeName == 'Node633' or nodeName == 'Node684' or nodeName == 'Node680':\n",
    "        continue\n",
    "    nodePhaseC_values = pd.Series(nodePhaseC.values).str.replace(\"i\", \"j\").apply(lambda x: complex(x))\n",
    "    \n",
    "    for val in nodePhaseC_values:\n",
    "            dpmu_data.loc[index, 'NodeId'] = nodeName\n",
    "            dpmu_data.loc[index, 'realC'] = val.real\n",
    "            dpmu_data.loc[index, 'imagC'] = val.imag\n",
    "            index = index+1\n"
   ]
  },
  {
   "cell_type": "code",
   "execution_count": null,
   "metadata": {},
   "outputs": [],
   "source": [
    "dpmu_data['realA'] = pd.to_numeric(dpmu_data['realA'])\n",
    "dpmu_data['realB'] = pd.to_numeric(dpmu_data['realB'])\n",
    "dpmu_data['realC'] = pd.to_numeric(dpmu_data['realC'])\n",
    "dpmu_data['imagA'] = pd.to_numeric(dpmu_data['imagA'])\n",
    "dpmu_data['imagB'] = pd.to_numeric(dpmu_data['imagB'])\n",
    "dpmu_data['imagC'] = pd.to_numeric(dpmu_data['imagC'])\n",
    "print(dpmu_data.dtypes)"
   ]
  },
  {
   "cell_type": "code",
   "execution_count": null,
   "metadata": {},
   "outputs": [],
   "source": [
    "player_file_column_names = ['NodeId', 'real', 'imag']\n",
    "input_player_df = pd.DataFrame(columns=player_file_column_names)"
   ]
  },
  {
   "cell_type": "code",
   "execution_count": null,
   "metadata": {},
   "outputs": [],
   "source": [
    "directory = r\"C:\\Users\\pragn\\Desktop\\grid-edge\\data\\input-data\\nonscaled_inputs\"\n",
    "\n",
    "index = 0\n",
    "for filename in os.listdir(directory):\n",
    "    player = pd.read_csv(os.path.join(directory, filename))\n",
    "    player['grid'] = player['grid'].str.replace(\"i\", \"j\").apply(lambda x: complex(x))\n",
    "    node_id = player['id'].loc[0]\n",
    "    for i in range(0, 1441):\n",
    "        input_player_df.loc[index, 'NodeId'] = 'Node'+str(node_id)\n",
    "        input_player_df.loc[index, 'real'] = player['grid'].loc[i].real\n",
    "        input_player_df.loc[index, 'imag'] = player['grid'].loc[i].imag\n",
    "        index = index+1\n"
   ]
  },
  {
   "cell_type": "code",
   "execution_count": null,
   "metadata": {},
   "outputs": [],
   "source": [
    "input_player_df['real'] = pd.to_numeric(input_player_df['real'])\n",
    "input_player_df['imag'] = pd.to_numeric(input_player_df['imag'])"
   ]
  },
  {
   "cell_type": "code",
   "execution_count": null,
   "metadata": {},
   "outputs": [],
   "source": [
    "from sklearn.datasets import make_regression\n",
    "from sklearn.linear_model import LinearRegression, Ridge, Lasso, LogisticRegression, SGDRegressor\n",
    "from sklearn.ensemble import RandomForestClassifier\n",
    "from sklearn.model_selection import train_test_split\n",
    "from sklearn.metrics import mean_absolute_error\n",
    "import xgboost as xgb\n",
    "import joblib\n",
    "\n",
    "# create datasets\n",
    "node_array = dpmu_data['NodeId'].unique()\n",
    "check = False\n",
    "\n",
    "for node in node_array:\n",
    "    print(node)\n",
    "    X = input_player_df[input_player_df['NodeId'] == node].drop(['NodeId'], axis=1)\n",
    "    y = dpmu_data[dpmu_data['NodeId']==node].drop(['NodeId'], axis=1)\n",
    "    \n",
    "    X_train, X_test, y_train, y_test = train_test_split(X, y, test_size=0.10, random_state=42)\n",
    "    \n",
    "    if check:\n",
    "        model = joblib.load(\"linear_model.joblib\")\n",
    "    else:\n",
    "        model = LinearRegression()\n",
    "        check = True\n",
    "    \n",
    "    model.fit(X_train, y_train)\n",
    "    joblib.dump(model, \"linear_model.joblib\")\n",
    "    \n",
    "    y_pred = model.predict(X_test)\n",
    "    print(mean_absolute_error(y_test, y_pred))\n"
   ]
  }
 ],
 "metadata": {
  "kernelspec": {
   "display_name": "Python 3",
   "language": "python",
   "name": "python3"
  },
  "language_info": {
   "codemirror_mode": {
    "name": "ipython",
    "version": 3
   },
   "file_extension": ".py",
   "mimetype": "text/x-python",
   "name": "python",
   "nbconvert_exporter": "python",
   "pygments_lexer": "ipython3",
   "version": "3.8.3"
  }
 },
 "nbformat": 4,
 "nbformat_minor": 4
}
